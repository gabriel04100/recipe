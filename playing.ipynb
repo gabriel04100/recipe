{
 "cells": [
  {
   "cell_type": "code",
   "execution_count": 31,
   "metadata": {},
   "outputs": [],
   "source": [
    "import pandas as pd\n",
    "import re\n",
    "import string\n",
    "from nltk import word_tokenize\n",
    "from nltk.corpus import stopwords\n",
    "from nltk import PorterStemmer\n",
    "from sklearn.feature_extraction.text import TfidfVectorizer\n",
    "from sklearn.neighbors import KNeighborsClassifier\n",
    "from sklearn.pipeline import make_pipeline\n",
    "from sklearn.preprocessing import RobustScaler\n",
    "from sklearn.model_selection import GridSearchCV\n",
    "from sklearn.ensemble import RandomForestClassifier\n",
    "import matplotlib.pyplot as plt\n",
    "import seaborn as sns"
   ]
  },
  {
   "cell_type": "code",
   "execution_count": 32,
   "metadata": {},
   "outputs": [],
   "source": [
    "data=pd.read_csv(\"Sorted.csv\")"
   ]
  },
  {
   "cell_type": "code",
   "execution_count": 33,
   "metadata": {},
   "outputs": [],
   "source": [
    "def load_test(data):\n",
    "    X_test= data[data['Store Section'].isna()].cleanDescription\n",
    "    return X_test"
   ]
  },
  {
   "cell_type": "code",
   "execution_count": 16,
   "metadata": {},
   "outputs": [],
   "source": [
    "def load_data(path):\n",
    "    return pd.read_csv(path)"
   ]
  },
  {
   "cell_type": "code",
   "execution_count": 34,
   "metadata": {},
   "outputs": [],
   "source": [
    "def preprocessing(recipe):\n",
    "\n",
    "    recipe = ''.join([i for i in recipe if not i.isdigit()])\n",
    "    recipe= ''.join([i for i in recipe if i not in string.punctuation and i !=\"®\" ])\n",
    "    recipe= word_tokenize(recipe.lower())\n",
    "    stemmer = PorterStemmer()\n",
    "    recipe=\" \".join([stemmer.stem(item) for item in recipe if item not in stopwords.words('english')])\n",
    "    return recipe"
   ]
  },
  {
   "cell_type": "code",
   "execution_count": 35,
   "metadata": {},
   "outputs": [],
   "source": [
    "data= load_data(\"Sorted.csv\")\n",
    "data.cleanDescription= data.cleanDescription.apply(preprocessing)"
   ]
  },
  {
   "cell_type": "code",
   "execution_count": 44,
   "metadata": {},
   "outputs": [
    {
     "data": {
      "text/html": [
       "<div>\n",
       "<style scoped>\n",
       "    .dataframe tbody tr th:only-of-type {\n",
       "        vertical-align: middle;\n",
       "    }\n",
       "\n",
       "    .dataframe tbody tr th {\n",
       "        vertical-align: top;\n",
       "    }\n",
       "\n",
       "    .dataframe thead th {\n",
       "        text-align: right;\n",
       "    }\n",
       "</style>\n",
       "<table border=\"1\" class=\"dataframe\">\n",
       "  <thead>\n",
       "    <tr style=\"text-align: right;\">\n",
       "      <th></th>\n",
       "      <th>id</th>\n",
       "      <th>description</th>\n",
       "      <th>recipe_id</th>\n",
       "      <th>measure</th>\n",
       "      <th>parsedName</th>\n",
       "      <th>quantity</th>\n",
       "      <th>cleanDescription</th>\n",
       "      <th>Unnamed: 7</th>\n",
       "      <th>Store Section</th>\n",
       "    </tr>\n",
       "  </thead>\n",
       "  <tbody>\n",
       "    <tr>\n",
       "      <th>0</th>\n",
       "      <td>1</td>\n",
       "      <td>1 cup cashews</td>\n",
       "      <td>2606</td>\n",
       "      <td>cup</td>\n",
       "      <td>cashews</td>\n",
       "      <td>1</td>\n",
       "      <td>cup cashew</td>\n",
       "      <td>NaN</td>\n",
       "      <td>Dry Goods</td>\n",
       "    </tr>\n",
       "    <tr>\n",
       "      <th>1</th>\n",
       "      <td>2</td>\n",
       "      <td>cold water to cover</td>\n",
       "      <td>2606</td>\n",
       "      <td>NaN</td>\n",
       "      <td>water</td>\n",
       "      <td>NaN</td>\n",
       "      <td>cold water cover</td>\n",
       "      <td>NaN</td>\n",
       "      <td>Household</td>\n",
       "    </tr>\n",
       "    <tr>\n",
       "      <th>2</th>\n",
       "      <td>3</td>\n",
       "      <td>1 cup coconut milk</td>\n",
       "      <td>2606</td>\n",
       "      <td>cup</td>\n",
       "      <td>coconut milk</td>\n",
       "      <td>1</td>\n",
       "      <td>cup coconut milk</td>\n",
       "      <td>NaN</td>\n",
       "      <td>Dry Goods</td>\n",
       "    </tr>\n",
       "    <tr>\n",
       "      <th>3</th>\n",
       "      <td>4</td>\n",
       "      <td>4 tablespoons agave syrup, or to taste</td>\n",
       "      <td>2606</td>\n",
       "      <td>tablespoon</td>\n",
       "      <td>agave syrup</td>\n",
       "      <td>4</td>\n",
       "      <td>tablespoon agav syrup tast</td>\n",
       "      <td>NaN</td>\n",
       "      <td>Dry Goods</td>\n",
       "    </tr>\n",
       "    <tr>\n",
       "      <th>4</th>\n",
       "      <td>5</td>\n",
       "      <td>1 tablespoon vanilla extract</td>\n",
       "      <td>2606</td>\n",
       "      <td>tablespoon</td>\n",
       "      <td>vanilla extract</td>\n",
       "      <td>1</td>\n",
       "      <td>tablespoon vanilla extract</td>\n",
       "      <td>NaN</td>\n",
       "      <td>Dry Goods</td>\n",
       "    </tr>\n",
       "  </tbody>\n",
       "</table>\n",
       "</div>"
      ],
      "text/plain": [
       "   id                             description  recipe_id     measure  \\\n",
       "0   1                           1 cup cashews       2606         cup   \n",
       "1   2                     cold water to cover       2606         NaN   \n",
       "2   3                      1 cup coconut milk       2606         cup   \n",
       "3   4  4 tablespoons agave syrup, or to taste       2606  tablespoon   \n",
       "4   5            1 tablespoon vanilla extract       2606  tablespoon   \n",
       "\n",
       "        parsedName quantity            cleanDescription  Unnamed: 7  \\\n",
       "0          cashews        1                  cup cashew         NaN   \n",
       "1            water      NaN            cold water cover         NaN   \n",
       "2     coconut milk        1            cup coconut milk         NaN   \n",
       "3      agave syrup        4  tablespoon agav syrup tast         NaN   \n",
       "4  vanilla extract        1  tablespoon vanilla extract         NaN   \n",
       "\n",
       "  Store Section  \n",
       "0     Dry Goods  \n",
       "1     Household  \n",
       "2     Dry Goods  \n",
       "3     Dry Goods  \n",
       "4     Dry Goods  "
      ]
     },
     "execution_count": 44,
     "metadata": {},
     "output_type": "execute_result"
    }
   ],
   "source": [
    "data.head()"
   ]
  },
  {
   "cell_type": "code",
   "execution_count": 36,
   "metadata": {},
   "outputs": [],
   "source": [
    "df=data[['id','cleanDescription','Store Section']].dropna(axis=0)\n"
   ]
  },
  {
   "cell_type": "code",
   "execution_count": 37,
   "metadata": {},
   "outputs": [],
   "source": [
    "X = df.cleanDescription\n",
    "y=df['Store Section']"
   ]
  },
  {
   "cell_type": "code",
   "execution_count": 42,
   "metadata": {},
   "outputs": [
    {
     "name": "stdout",
     "output_type": "stream",
     "text": [
      "best score knn 0.785 avec les paramètres :{'kneighborsclassifier__n_neighbors': 1}\n"
     ]
    },
    {
     "name": "stderr",
     "output_type": "stream",
     "text": [
      "c:\\Users\\gabri\\Desktop\\recipes\\venv\\lib\\site-packages\\sklearn\\model_selection\\_split.py:684: UserWarning: The least populated class in y has only 1 members, which is less than n_splits=5.\n",
      "  warnings.warn(\n"
     ]
    }
   ],
   "source": [
    "#--------------------------KNN-----------------------\n",
    "knn=make_pipeline(TfidfVectorizer(),KNeighborsClassifier())\n",
    "#knn.get_params().keys()\n",
    "param_knn={'kneighborsclassifier__n_neighbors':range(1,5),\n",
    "          }\n",
    "grid_knn=GridSearchCV(knn,param_knn,cv=5)\n",
    "grid_knn.fit(X,y)\n",
    "knn=grid_knn.best_estimator_\n",
    "print(\"best score knn {:.3f} avec les paramètres :{}\".format(grid_knn.best_score_,grid_knn.best_params_))\n"
   ]
  },
  {
   "cell_type": "code",
   "execution_count": 43,
   "metadata": {},
   "outputs": [
    {
     "data": {
      "text/plain": [
       "array(['Dry Goods', 'Dry Goods', 'Dry Goods', ..., 'Dry Goods',\n",
       "       'Dry Goods', 'Dry Goods'], dtype=object)"
      ]
     },
     "execution_count": 43,
     "metadata": {},
     "output_type": "execute_result"
    }
   ],
   "source": [
    "knn.predict(load_test(data))"
   ]
  }
 ],
 "metadata": {
  "kernelspec": {
   "display_name": "Python 3.10.2 ('venv': venv)",
   "language": "python",
   "name": "python3"
  },
  "language_info": {
   "codemirror_mode": {
    "name": "ipython",
    "version": 3
   },
   "file_extension": ".py",
   "mimetype": "text/x-python",
   "name": "python",
   "nbconvert_exporter": "python",
   "pygments_lexer": "ipython3",
   "version": "3.10.2"
  },
  "orig_nbformat": 4,
  "vscode": {
   "interpreter": {
    "hash": "9d15a8a3433b6468b7bc7ff563810cb794662b71896d053a1e25893f501c477c"
   }
  }
 },
 "nbformat": 4,
 "nbformat_minor": 2
}
